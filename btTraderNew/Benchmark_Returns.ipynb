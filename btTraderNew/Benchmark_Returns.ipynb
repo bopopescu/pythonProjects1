{
 "cells": [
  {
   "cell_type": "code",
   "execution_count": 1,
   "metadata": {},
   "outputs": [],
   "source": [
    "%load_ext zipline\n",
    "\n",
    "from zipline.data import bundles\n",
    "import os\n",
    "import pandas as pd\n",
    "from zipline.data.bundles import register, load\n",
    "from zipline.data.bundles.csvdir import csvdir_equities\n",
    "from zipline.data.bundles.yahoo import yahoo_stock_data\n",
    "from zipline.data.data_portal import DataPortal\n",
    "from zipline import run_algorithm\n",
    "from zipline.api import schedule_function\n",
    "from zipline.pipeline.data import Column\n",
    "from zipline.pipeline.pipeline import Pipeline\n",
    "\n",
    "from zipline.pipeline.data import USEquityPricing\n",
    "from zipline.pipeline.engine import SimplePipelineEngine\n",
    "from zipline.pipeline.loaders import USEquityPricingLoader\n",
    "from trading_calendars.trading_calendar import TradingCalendar\n",
    "from trading_calendars import get_calendar\n",
    "import itertools\n",
    "from zipline.pipeline.filters import StaticAssets\n",
    "\n",
    "# Import visualization\n",
    "import matplotlib.pyplot as plt"
   ]
  },
  {
   "cell_type": "code",
   "execution_count": 4,
   "metadata": {},
   "outputs": [],
   "source": [
    "df = pd.read_csv('./benchmark/NIFTY.NS.csv')"
   ]
  },
  {
   "cell_type": "code",
   "execution_count": 6,
   "metadata": {},
   "outputs": [],
   "source": [
    "close_price_series = df['close']"
   ]
  },
  {
   "cell_type": "code",
   "execution_count": 10,
   "metadata": {},
   "outputs": [
    {
     "data": {
      "text/plain": [
       "3187"
      ]
     },
     "execution_count": 10,
     "metadata": {},
     "output_type": "execute_result"
    }
   ],
   "source": [
    "close_price_series.size"
   ]
  },
  {
   "cell_type": "code",
   "execution_count": 8,
   "metadata": {},
   "outputs": [],
   "source": [
    "benchmark_pct_gains = close_price_series.pct_change(1)[1:] "
   ]
  },
  {
   "cell_type": "code",
   "execution_count": null,
   "metadata": {},
   "outputs": [],
   "source": []
  },
  {
   "cell_type": "code",
   "execution_count": 12,
   "metadata": {},
   "outputs": [],
   "source": [
    "benchmark_pct_gains.to_csv(\"./benchmark/gains.csv\")"
   ]
  },
  {
   "cell_type": "code",
   "execution_count": null,
   "metadata": {},
   "outputs": [],
   "source": []
  }
 ],
 "metadata": {
  "kernelspec": {
   "display_name": "Python 3",
   "language": "python",
   "name": "python3"
  },
  "language_info": {
   "codemirror_mode": {
    "name": "ipython",
    "version": 3
   },
   "file_extension": ".py",
   "mimetype": "text/x-python",
   "name": "python",
   "nbconvert_exporter": "python",
   "pygments_lexer": "ipython3",
   "version": "3.5.6"
  }
 },
 "nbformat": 4,
 "nbformat_minor": 2
}
